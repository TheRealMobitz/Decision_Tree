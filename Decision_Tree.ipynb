{
 "cells": [
  {
   "cell_type": "code",
   "execution_count": null,
   "id": "acdf92fd",
   "metadata": {},
   "outputs": [],
   "source": [
    "# for visualizing the aformentioned tree\n",
    "import sys\n",
    "import matplotlib\n",
    "matplotlib.use('Agg')"
   ]
  },
  {
   "cell_type": "code",
   "execution_count": null,
   "id": "94952775",
   "metadata": {},
   "outputs": [],
   "source": [
    "\n",
    "# for reading and initializing decision tree\n",
    "import numpy\n",
    "import pandas"
   ]
  },
  {
   "cell_type": "code",
   "execution_count": null,
   "id": "8ec27870",
   "metadata": {},
   "outputs": [],
   "source": [
    "\n",
    "df = pandas.read_csv(\"whatever.csv\") # reads data set\n",
    "print(df) # prints the data set"
   ]
  },
  {
   "cell_type": "code",
   "execution_count": null,
   "id": "3c4b0c2a",
   "metadata": {},
   "outputs": [],
   "source": [
    "\n",
    "class tree: \n",
    "    def __init__(self):\n",
    "      self.depth = 0\n",
    "      self.pEntropy = 0\n",
    "\n",
    "    def getDepth(self):\n",
    "      return self.depth\n",
    "    \n",
    "    def setDepth(self, depth):\n",
    "      self.depth = depth\n",
    "\n",
    "    \"\"\"\n",
    "    here is how the tree is created:\n",
    "    first step: it checks if the labels are the same, if they are, it returns the label\n",
    "    second step: it checks for the best feature to split the data on\n",
    "    third step: it splits the data on the best feature\n",
    "    fourth step: it creates a tree with the split data\n",
    "    \"\"\"\n",
    "    def createTree(self, data, labels):\n",
    "        if len(numpy.unique(labels)) == 1:\n",
    "            return {'label': labels[0], 'data': data, 'children': []}\n",
    "\n",
    "        best_feature = None\n",
    "        best_igain = 0\n",
    "        for feature in range(data.shape[1]):\n",
    "            igain = self.iGain(self.entropy(labels), \n",
    "                               [numpy.mean(data[:, feature] == value) for value in numpy.unique(data[:, feature])], \n",
    "                               [self.entropy(labels[data[:, feature] == value]) for value in numpy.unique(data[:, feature])])\n",
    "            if igain > best_igain:\n",
    "                best_igain = igain\n",
    "                best_feature = feature\n",
    "\n",
    "        tree = {'label': None, 'data': data, 'children': []}\n",
    "        for value in numpy.unique(data[:, best_feature]):\n",
    "            child_data = data[data[:, best_feature] == value]\n",
    "            child_labels = labels[data[:, best_feature] == value]\n",
    "            tree['children'].append({'value': value, 'tree': self.createTree(child_data, child_labels)})\n",
    "\n",
    "        return tree\n",
    "\n",
    "    def entropy(self, labels):\n",
    "      entropy = 0\n",
    "      unique_labels = numpy.unique(labels) # gets the unique labels\n",
    "      for label in unique_labels:\n",
    "          probability = numpy.mean(labels == label) # gets the probability of the label\n",
    "          if probability > 0:\n",
    "              entropy += -probability * numpy.log2(probability)\n",
    "      return entropy\n",
    "      \n",
    "    def iGain(self, pEntropy, weigh, entropy):\n",
    "      return pEntropy - numpy.sum(numpy.array(weigh) * numpy.array(entropy)) # calculates the information gain\n",
    "\n"
   ]
  },
  {
   "cell_type": "code",
   "execution_count": null,
   "id": "8ecc31d7",
   "metadata": {},
   "outputs": [],
   "source": [
    "\n",
    "class DTreeClassifier:\n",
    "    def __init__(self, data, label):\n",
    "        self.data = data\n",
    "        self.label = label\n",
    "        self.tree = tree()\n",
    "\n",
    "    def predict(self, features, depth):\n",
    "        self.tree.setDepth(depth)\n",
    "        return self.tree.createTree(self.data, features)\n",
    "\n",
    "    def predictAll(self, features_list, depth):\n",
    "        predictions = []\n",
    "        for features in features_list:\n",
    "            predictions.append(self.predict(features, depth))\n",
    "        return predictions\n",
    "\n",
    "    def accuracy(self, labels, predictions):\n",
    "        correct = 0\n",
    "        for i in range(len(labels)):\n",
    "            if labels[i] == predictions[i]:\n",
    "                correct += 1\n",
    "        return correct / len(labels)"
   ]
  }
 ],
 "metadata": {
  "kernelspec": {
   "display_name": "Python 3 (ipykernel)",
   "language": "python",
   "name": "python3"
  },
  "language_info": {
   "codemirror_mode": {
    "name": "ipython",
    "version": 3
   },
   "file_extension": ".py",
   "mimetype": "text/x-python",
   "name": "python",
   "nbconvert_exporter": "python",
   "pygments_lexer": "ipython3",
   "version": "3.12.1"
  }
 },
 "nbformat": 4,
 "nbformat_minor": 5
}

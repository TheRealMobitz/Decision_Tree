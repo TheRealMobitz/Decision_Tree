{
 "cells": [
  {
   "cell_type": "code",
   "execution_count": null,
   "id": "82821a44-17d0-41dd-9ce5-7a0d38970d4e",
   "metadata": {},
   "outputs": [],
   "source": [
    "# for visualizing the aformentioned tree\n",
    "import sys\n",
    "import matplotlib\n",
    "matplotlib.use('Agg')\n",
    "\n",
    "# for reading and initializing decision tree\n",
    "import numpy\n",
    "import pandas\n",
    "\n",
    "df = pandas.read_csv(\"whatever.csv\") # reads data set\n",
    "print(df) # prints the data set\n",
    "\n",
    "class tree: \n",
    "    def __init__(self):\n",
    "      self.depth = 0\n",
    "      self.pEntropy = 0\n",
    "\n",
    "    def getDepth(self):\n",
    "      return self.depth\n",
    "    \n",
    "    def setDepth(self, depth):\n",
    "      self.depth = depth\n",
    "\n",
    "    def entropy(self, data):\n",
    "      entropy = 0\n",
    "      labels = numpy.unique(data) # gets the unique labels\n",
    "      for label in labels:\n",
    "        probability = numpy.mean(data == label) # gets the probability of the label\n",
    "        if probability > 0:\n",
    "          entropy += -probability * numpy.log2(probability)\n",
    "        return entropy\n",
    "      \n",
    "    def iGain(self, pEntropy, weigh, entropy):\n",
    "      return pEntropy - numpy.sum(numpy.array(weigh) * numpy.array(entropy)) # calculates the information gain\n",
    "\n",
    "\n",
    "class DTreeClassifier():"
   ]
  }
 ],
 "metadata": {
  "kernelspec": {
   "display_name": "Python 3 (ipykernel)",
   "language": "python",
   "name": "python3"
  },
  "language_info": {
   "codemirror_mode": {
    "name": "ipython",
    "version": 3
   },
   "file_extension": ".py",
   "mimetype": "text/x-python",
   "name": "python",
   "nbconvert_exporter": "python",
   "pygments_lexer": "ipython3",
   "version": "3.12.1"
  }
 },
 "nbformat": 4,
 "nbformat_minor": 5
}

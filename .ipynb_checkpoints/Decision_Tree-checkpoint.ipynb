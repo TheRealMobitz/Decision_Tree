{
 "cells": [
  {
   "cell_type": "code",
   "execution_count": null,
   "id": "82821a44-17d0-41dd-9ce5-7a0d38970d4e",
   "metadata": {},
   "outputs": [],
   "source": [
    "\n",
    "import numpy\n",
    "import pandas\n",
    "\n",
    "df = pandas.read_csv(\"whatever.csv\") # reads data set\n",
    "print(df) # prints the data set\n"
   ]
  }
 ],
 "metadata": {
  "kernelspec": {
   "display_name": "Python 3 (ipykernel)",
   "language": "python",
   "name": "python3"
  },
  "language_info": {
   "codemirror_mode": {
    "name": "ipython",
    "version": 3
   },
   "file_extension": ".py",
   "mimetype": "text/x-python",
   "name": "python",
   "nbconvert_exporter": "python",
   "pygments_lexer": "ipython3",
   "version": "3.12.1"
  }
 },
 "nbformat": 4,
 "nbformat_minor": 5
}
